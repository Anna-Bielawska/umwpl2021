{
 "cells": [
  {
   "cell_type": "markdown",
   "metadata": {},
   "source": [
    "# Uczenie głębokie na białkach\n",
    "\n",
    "Choć pracę na białkach często zalicza się do bioinformatyki bardziej niż do cheminformatyki, to są one bardzo istotnym elementem w projektowaniu leków. Szczególnie istotna jest możliwość kodowania struktury przestrzennej białek, która jest związana z funkcjonowaniem tych biologicznych maszyn w organizmie.\n",
    "\n",
    "## Reprezentacje\n",
    "\n",
    "Białka są również związkami chemicznymi, ale ze względu na ich pokaźne rozmiary, są przetwarzane często inaczej niż leki małocząsteczkowe. Typowe reprezentacje to:\n",
    "\n",
    "1. **Dane sekwencyjne** - białka są nićmi aminokwasów, które można przedstawiać w formie tekstowej, a dodając informację o kątach dwuściennych, możemy również kodować informację przestrzenną; możemy tę reprezentację przetwarzać sieciami rekurencyjnymi lub transformerami;\n",
    "![dihedrals](https://upload.wikimedia.org/wikipedia/commons/c/c0/Protein_backbone_PhiPsiOmega_drawing.jpg)\n",
    "2. **Grafy** - kolejną reprezentacją są grafy, ale tym razem często upraszcza się strukturę związku i wierzchołkami stają się tylko węgle α, które mają w swych cechach zakodowaną resztę aminokwasową; reprezentację grafową możemy przetwarzać poznanymi wcześniej sieciami grafowymi;\n",
    "3. **Woksele** - reprezentacja polegająca na ustawieniu siatki 3D wokseli (sześcianów kodujących atomy, które się z nimi przecinają) wokół całego białka; najczęściej używa się wokseli o wielkości 1 Å^3 (1 Å = 10^-10 m); reprezentację tę można przetwarzać sieciami konwolucyjnymi 3D;\n",
    "![voxel](https://journals.plos.org/plosone/article/file?id=10.1371/journal.pone.0221347.g002&type=large)\n",
    "4. **Mapy odległości lub kontaktów** - reprezentacja dwuwymiarowa przedstawiająca odległości w przestrzeni między węglami alfa; gdy odległości te są zamienione na zera i jedynki przy wybranym progu, mówimy o mapach kontaktów; reprezentację tę przetwarzamy zwykle sieciami konwolucyjnymi 2D;\n",
    "![contact](https://upload.wikimedia.org/wikipedia/commons/8/8d/Protein_Contact_Map%2C_2-Color%2C_2QIP-A.png)\n",
    "5. **Chmury punktów** - zbiory niepołączonych ze sobą punktów 3D (węgle alfa) kodujących pewne cechy (m.in. kod aminokwasu); reprezentację tę możemy przetwarzać specjalnymi architekturami dla chmur punktów lub sieciami grafowymi.\n",
    "\n",
    "## Problemy, które możemy rozwiązać\n",
    "\n",
    "1. Odwrotne zwijanie białek, czyli inaczej projektowanie białek - zadaniem jest znalezienie sekwencji aminokwasów, która da określoną strukturę 3D; \n",
    "2. Szukanie kieszeni wiążących - znajdowanie w białkach wgłębień, które mogą służyć jako kieszenie wiążące dla ligandów; często realizowane jest przez segmentację przestrzeni 3D przy pomocy 3D Conv U-Netu;\n",
    "3. Ocena powinowactwa liganda do kieszeni wiążącej białka - ocena jak mocne interakcje zachodzą między ligandem a białkiem w kompleksie ligand-białko (zadokowane lub ze struktury krystalograficznej).\n",
    "![deepsite](https://oup.silverchair-cdn.com/oup/backfile/Content_public/Journal/bioinformatics/33/19/10.1093_bioinformatics_btx350/3/m_btx350f5.jpeg?Expires=1642462433&Signature=bBkAYrlkC5r6kINdTcMSUJc2acQPTYYGWVJXxhNKzEFRRU-cnXU0mlstJi0SKd3~9w35sdajA68QjbkbvnldzbVF5otlArXYR62Z-51QviWioYOc3rXgigBg~VkwipI4MKb~jf6oIMaSubY8DtHImkEBQk3d94y1jX8xYb8MONpErE-5QpQY9jhSbgANiUZydKW74665QntKdGnUiW1-nFEAmAPL4~Xc54YHwyyTM9fAOdPVL1RrlCY2kBzsXoN9VR8TDaIVkTzDKfAZtX9MMuIcm2xvxALc0cbV8tDaH4-c1PjwClu8gL~mjFyx-lSRbnTnh4DVv3BoE9iJdcpo~A__&Key-Pair-Id=APKAIE5G5CRDK6RD3PGA)"
   ]
  },
  {
   "cell_type": "markdown",
   "metadata": {},
   "source": [
    "**Zadanie 1:** Zaimplementuj wybraną reprezentację białka.\n",
    "\n",
    "**Zadanie 2:** Zaimplementuj sieć, która będzie tę reprezentację przetwarzała (nie musi się nic uczyć, a jedynie zwracać poprawnych wymiarów wyjście)."
   ]
  },
  {
   "cell_type": "markdown",
   "metadata": {},
   "source": [
    "## Przykładowy fragment implementacji wokseli"
   ]
  },
  {
   "cell_type": "code",
   "execution_count": 1,
   "metadata": {},
   "outputs": [],
   "source": [
    "from rdkit import Chem\n",
    "import numpy as np\n",
    "import matplotlib.pyplot as plt\n",
    "from mpl_toolkits.mplot3d import Axes3D\n",
    "\n",
    "%matplotlib notebook"
   ]
  },
  {
   "cell_type": "code",
   "execution_count": null,
   "metadata": {},
   "outputs": [],
   "source": [
    "symbols = ['C', 'N', 'O', 'S']"
   ]
  },
  {
   "cell_type": "code",
   "execution_count": 1,
   "metadata": {},
   "outputs": [],
   "source": [
    "# Load protein from a PDB file\n",
    "mol = Chem.MolFromPDBFile('../data/bace/4ivt.pdb')\n",
    "pos = ...  # Create a position matrix of dimensions number_of_atoms x 3\n",
    "bounding_box = ...  # Create a bounding box definition, e.g. two corners of the protein bounding box\n",
    "box_size = ...  # Calculate bounding box size (you can use 1 unit as the voxel size)\n",
    "grid = ...  # Create an empty grid with 4 channels (number of symbols) and size corresponding to the bounding box"
   ]
  },
  {
   "cell_type": "code",
   "execution_count": 8,
   "metadata": {},
   "outputs": [],
   "source": [
    "for i, atom in enumerate(mol.GetAtoms()):\n",
    "    ...  # Map atoms onto the grid, use 1 to mark the corresponding grid position and channel\n",
    "    # tip: you will need the atom symbol and atom position aligned with the grid"
   ]
  },
  {
   "cell_type": "code",
   "execution_count": 2,
   "metadata": {},
   "outputs": [],
   "source": [
    "# The code below will plot your voxel grid\n",
    "fig = plt.figure(figsize=(7, 5))\n",
    "ax = fig.add_subplot(111, projection='3d')\n",
    "ax.voxels(grid[:, :, :, 0], facecolors='grey', alpha=0.7)\n",
    "ax.voxels(grid[:, :, :, 1], facecolors='blue', alpha=0.7)\n",
    "ax.voxels(grid[:, :, :, 2], facecolors='red', alpha=0.7)\n",
    "ax.voxels(grid[:, :, :, 3], facecolors='orange', alpha=0.7)\n",
    "plt.show()"
   ]
  }
 ],
 "metadata": {
  "kernelspec": {
   "display_name": "Python 3",
   "language": "python",
   "name": "python3"
  },
  "language_info": {
   "codemirror_mode": {
    "name": "ipython",
    "version": 3
   },
   "file_extension": ".py",
   "mimetype": "text/x-python",
   "name": "python",
   "nbconvert_exporter": "python",
   "pygments_lexer": "ipython3",
   "version": "3.8.5"
  }
 },
 "nbformat": 4,
 "nbformat_minor": 4
}
