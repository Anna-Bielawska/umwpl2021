{
 "cells": [
  {
   "cell_type": "code",
   "execution_count": 1,
   "metadata": {},
   "outputs": [],
   "source": [
    "import sys\n",
    "sys.path.append('..')"
   ]
  },
  {
   "cell_type": "markdown",
   "metadata": {},
   "source": [
    "# ChEMBL\n",
    "\n",
    "**ChEMBL** jest bazą danych aktywności związków chemicznych. Tutaj trafiają dane z eksperymentów biologicznych, które później można wykorzystać do wytrenowania modeli uczenia maszynowego. Trzeba jednak zwrócić uwagę, że baza ta jest ręcznie poprawiana, a dane gromadzone są z różnych publikacji. Co za tym idzie, jakość danych nie jest idealna, a czasem nawet ten sam związek może mieć drastycznie różne pomiary aktywności. Zdarzają się dane błędne, a metody pomiaru aktywności mogą się różnić między zespołami.\n",
    "\n",
    "Żeby wartości związane z aktywnością pojawiły się w bazie danych, zespół chemików lub biologów musi przeprowadzić **test biologiczny** (ang. biological assay, bioassay). W trakcie takiego testu związek chemiczny może na przykład być podany bezpośrednio do białka, z którym ma oddziaływać, lub też na komórki. Następnie odpowiednimi narzędziami mierzona jest aktywność związku. W bazie ChEMBL znajdziemy między innymi wartości aktywności podane jako:\n",
    "\n",
    "- **EC$_{50}$/IC$_{50}$** - minimalne stężenie, przy którym zachodzi połowa efektu lub inhibicji (blokady działania); w tym przypadku mniejsza liczba oznacza większą aktywność,\n",
    "- **$\\text{K}_\\text{i}$** - stała inhibicji, która wyznacza siłę wiązania się z białkiem; również mniejsze wartości to większa aktywność.\n",
    "\n",
    "Często wartości aktywności konwertowane są przy pomocy logarytmu i oznaczane dodatkową literą p, np. **pIC$_{50}$** to ujemny logarytm dziesiętny z IC$_{50}$. Pozwala to zmniejszyć wpływ dużych wartości. W tym wypadku większe wartości oznaczają większą aktywność.\n",
    "\n",
    "![assay](https://upload.wikimedia.org/wikipedia/commons/thumb/a/a0/96_well_plate.jpg/1599px-96_well_plate.jpg)\n",
    "\n",
    "Przykładowe cele biologiczne (do wyboru w zadaniach poniżej):\n",
    "\n",
    "- MAO-B (monoaminooksydaza B) - odpowiedzialna między innymi za chorobę Parkinsona\n",
    "- ACE2 (enzym konwertujący angiotensynę typu 2) - odpowiedzialny za wiązanie się wirusa SARS-CoV-2\n",
    "- COX-2 (cyklooksygenaza 2) - cel niesteroidowych leków przeciwzapalnych\n",
    "- 5-HT3 (receptor serotoninowy 3) - częsty cel leków przeciwwymiotnych\n",
    "- hERG - kanał potasowy w sercu odpowiedzialny za toksyczność\n",
    "\n",
    "*Na marginesie: Użycie danych hERG będzie dobrym wstępem do projektu nr 7: Przewidywanie kardiotoksyczności związków*"
   ]
  },
  {
   "cell_type": "markdown",
   "metadata": {},
   "source": [
    "W pierwszym zadaniu będziemy starać się użyć dostępnych danych o aktywnościach związków wobec wybranego celu biologicznego, aby stworzyć model przewidujący tę aktywność. Jeśli swoje przewidywania opieramy na strukturze związku (mamy dostęp do SMILES, który opisuje właśnie strukturę), to swój model możemy nazwać modelem **QSAR** (Quantitative Structure-Activity Relationship).\n",
    "\n",
    "**Zadanie:** Znajdź związki z danymi aktywności do wybranego celu biologicznego w bazie ChEMBL. Stwórz z nich zbiór danych i wytrenuj model przewidujący aktywność biologiczną. Możesz użyć kodu modelu z poprzednich zajęć."
   ]
  },
  {
   "cell_type": "code",
   "execution_count": 3,
   "metadata": {},
   "outputs": [],
   "source": [
    "import pandas as pd\n",
    "import matplotlib.pyplot as plt\n",
    "import numpy as np\n",
    "from rdkit import Chem\n",
    "from rdkit.Chem import AllChem"
   ]
  },
  {
   "cell_type": "code",
   "execution_count": 78,
   "metadata": {},
   "outputs": [],
   "source": [
    "pd.set_option('display.max_columns', None)\n",
    "data_path = \"...\"  # TODO: You should change this\n",
    "df = pd.read_csv(data_path, sep=';')\n",
    "df.head()"
   ]
  },
  {
   "cell_type": "code",
   "execution_count": 77,
   "metadata": {},
   "outputs": [],
   "source": [
    "activity_type = 'IC50'  # TODO: You can change this\n",
    "relevant_columns = ['Molecule ChEMBL ID', 'Molecule Name', 'Molecular Weight', '#RO5 Violations', 'Smiles',\n",
    "                    'Standard Value', 'Standard Units', 'pChEMBL Value']\n",
    "df = df[(df['Standard Type'] == activity_type) & (df['Standard Relation'].str.contains('='))][relevant_columns]\n",
    "df"
   ]
  },
  {
   "cell_type": "code",
   "execution_count": 76,
   "metadata": {},
   "outputs": [],
   "source": [
    "from sklearn.model_selection import train_test_split\n",
    "\n",
    "df_train, df_test = train_test_split(df, test_size=0.2)\n",
    "len(df_train), len(df_test)"
   ]
  },
  {
   "cell_type": "code",
   "execution_count": 72,
   "metadata": {},
   "outputs": [],
   "source": [
    "# TODO: Use your training script\n",
    "\n",
    "class Featurizer:\n",
    "    def __init__(self, y_column, **kwargs):\n",
    "        self.y_column = y_column\n",
    "        self.__dict__.update(kwargs)\n",
    "    \n",
    "    def __call__(self, df):\n",
    "        raise NotImplementedError()\n",
    "        \n",
    "\n",
    "class ECFPFeaturizer(Featurizer):\n",
    "    def __init__(self, y_column, radius=2, length=1024, **kwargs):\n",
    "        self.radius = radius\n",
    "        self.length = length\n",
    "        super().__init__(y_column, **kwargs)\n",
    "    \n",
    "    def __call__(self, df):\n",
    "        fingerprints = []\n",
    "        labels = []\n",
    "        for i, row in df.iterrows():\n",
    "            y = row[self.y_column]\n",
    "            smiles = row.Smiles\n",
    "            mol = Chem.MolFromSmiles(smiles)\n",
    "            fp = AllChem.GetMorganFingerprintAsBitVect(mol, self.radius, nBits=self.length)\n",
    "            fingerprints.append(fp)\n",
    "            labels.append(y)\n",
    "        fingerprints = np.array(fingerprints)\n",
    "        labels = np.array(labels)\n",
    "        return fingerprints, labels\n",
    "\n",
    "\n",
    "from sklearn.ensemble import RandomForestRegressor\n",
    "\n",
    "featurizer = ECFPFeaturizer(y_column='Standard Value')\n",
    "X_train, y_train = featurizer(df_train)\n",
    "X_test, y_test = featurizer(df_test)\n",
    "\n",
    "model = RandomForestRegressor()\n",
    "model.fit(X_train, y_train)\n",
    "model.score(X_test, y_test)"
   ]
  },
  {
   "cell_type": "markdown",
   "metadata": {},
   "source": [
    "Klasyczny QSAR wykonywany był na związkach o podobnych strukturach, aby skuteczność metody była jak największa. Badano na przykład wpływ różnych podstawników na zmianę aktywności związku. Obecnie w bazach takich jak ChEMBL znaleźć można wiele serii związków działających na dany cel, tj. wiele podobnych struktur opracowanych na drodze do znalezienia aktywnego związku. Losowy podział danych nie zawsze jest więc optymalny, bo do zbioru testowego mogą trafić analogi związków treningowych (bardzo podobne związki). Często zamiast tego używa się **podziału względem czasu** (bardziej złożone modyfikacje były wprowadzane później) oraz **względem scaffoldu**/rdzenia związku (upewniamy się, że żaden scaffold nie znajduje się jednocześnie w zbiorze treningowym i testowym).\n",
    "\n",
    "![scaffolds](https://media.springernature.com/full/springer-static/image/art%3A10.1007%2Fs00894-019-3950-6/MediaObjects/894_2019_3950_Fig1_HTML.png)\n",
    "\n",
    "**Zadanie:** Jak wyniki przewidywania zmieniają się, gdy zostanie zmieniona metoda podziału danych?"
   ]
  },
  {
   "cell_type": "code",
   "execution_count": null,
   "metadata": {},
   "outputs": [],
   "source": [
    "# TODO: scaffold or time split"
   ]
  },
  {
   "cell_type": "markdown",
   "metadata": {},
   "source": [
    "Wcześniej wspomniałem już, że logarytm często w chemii może pomóc w radzeniu sobie z dużymi wartościami liczbowymi. Okazuje się, że równie pomocna może być zamiana wartości ciągłych na 2 klasy: związki aktywne i nieaktywne. Wybiera się wówczas próg na wartościach, który rozdziela te dwie klasy, a problem zamienia się w problem klasyfikacji. Pozbywamy się w ten sposób między innymi możliwych błędów pomiaru, które mogą wynosić nawet kilka rzędów wielkości.\n",
    "\n",
    "**Zadanie:** Czy użycie przekształconych (logarytm) albo zbinaryzowanych wartości aktywności poprawia predykcje?\n",
    "\n",
    "*Na marginesie: To zadanie jest wstępem do projektu nr 2: Regresja vs. Klasyfikacja.*"
   ]
  },
  {
   "cell_type": "code",
   "execution_count": 75,
   "metadata": {},
   "outputs": [],
   "source": [
    "activity_threshold = 100\n",
    "df['class'] = (df['Standard Value'] <= activity_threshold).astype(int)\n",
    "df"
   ]
  },
  {
   "cell_type": "code",
   "execution_count": null,
   "metadata": {},
   "outputs": [],
   "source": [
    "# TODO: classification setup"
   ]
  },
  {
   "cell_type": "markdown",
   "metadata": {},
   "source": [
    "**Zadanie:** Czy znajdujesz jakieś nieścisłości w danych? Na przykład znajdujesz wartości odstające albo SMILES zawiera więcej niż jeden związek? Jak zaradzić tym problemom?"
   ]
  },
  {
   "cell_type": "code",
   "execution_count": 74,
   "metadata": {},
   "outputs": [],
   "source": [
    "# Hint: A dot in the SMILES string indicates multiple compounds (this is a separator)\n",
    "df[df.Smiles.str.contains('\\.')]\n",
    "\n",
    "# TODO: Perform Exploratory Data Analysis"
   ]
  },
  {
   "cell_type": "markdown",
   "metadata": {},
   "source": [
    "# ZINC\n",
    "\n",
    "**ZINC** jest bazą komercyjnie dostępnych związków chemicznych. Dane są przeznaczone przede wszystkim do tzw. **wirtualnego skriningu**, czyli badania aktywności związków modelami *in silico* (zaimplementowanymi na komputerze). Związki ocenione najlepiej przez modele mogą zostać następnie zakupione i przetestowane *in vitro* (na komórkach lub biomolekułach) lub *in vivo* (na żywych organizmach).\n",
    "\n",
    "**Zadanie:** Pobierz mały podzbiór związków dostępnych do kupienia i przeprowadź skrining wirtualny przy użyciu wytrenowanego powyżej modelu. Które związki powinny zostać wybrane do zsyntetyzowania?"
   ]
  },
  {
   "cell_type": "code",
   "execution_count": null,
   "metadata": {},
   "outputs": [],
   "source": [
    "# TODO: inference: (1) load data (2) convert representation (3) predict activity (4) show drug candidates"
   ]
  },
  {
   "cell_type": "markdown",
   "metadata": {},
   "source": [
    "**Zadanie:** Jak bardzo podobne są aktywne związki do tych w zbiorze treningowym? Czy podobieństwo związków wpłynąć powinno na decyzję odnośnie wyboru związków do syntezy?"
   ]
  },
  {
   "cell_type": "code",
   "execution_count": null,
   "metadata": {},
   "outputs": [],
   "source": [
    "# TODO: Check structural similarity"
   ]
  },
  {
   "cell_type": "markdown",
   "metadata": {},
   "source": [
    "**Zadanie:** Usuń mało obiecujące propozycje modelu przez odfiltrowanie \"podejrzanych\" struktur (SMARTS)."
   ]
  },
  {
   "cell_type": "code",
   "execution_count": 73,
   "metadata": {},
   "outputs": [],
   "source": [
    "df_alerts = pd.read_csv('../data/alerts/SureChEMBL.csv')\n",
    "df_alerts"
   ]
  },
  {
   "cell_type": "code",
   "execution_count": null,
   "metadata": {},
   "outputs": [],
   "source": [
    "# TODO: Use SMARTS to filter out compounds"
   ]
  },
  {
   "cell_type": "markdown",
   "metadata": {},
   "source": [
    "# PubChem\n",
    "\n",
    "**PubChem** jest otwartą bazą danych związków chemicznych, zawierającą różne informacje o tych związkach, jak na przykład formy krystaliczne, czy różne własności ADMET (Absorption Distribution Metabolism Excretion Toxicity). Umożliwia też łatwe wyszukiwanie związków, w tym po SMARTS-ach i ręcznie narysowanych strukturach. \n",
    "\n",
    "**Zadanie:** Spróbuj znaleźć informacje o topowych związkach Twojego skriningu w bazie PubChem."
   ]
  }
 ],
 "metadata": {
  "kernelspec": {
   "display_name": "Python 3",
   "language": "python",
   "name": "python3"
  },
  "language_info": {
   "codemirror_mode": {
    "name": "ipython",
    "version": 3
   },
   "file_extension": ".py",
   "mimetype": "text/x-python",
   "name": "python",
   "nbconvert_exporter": "python",
   "pygments_lexer": "ipython3",
   "version": "3.8.5"
  }
 },
 "nbformat": 4,
 "nbformat_minor": 4
}
