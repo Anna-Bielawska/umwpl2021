{
 "cells": [
  {
   "cell_type": "code",
   "execution_count": 1,
   "metadata": {},
   "outputs": [],
   "source": [
    "%load_ext autoreload\n",
    "%autoreload 2\n",
    "\n",
    "import sys\n",
    "sys.path.append('..')"
   ]
  },
  {
   "cell_type": "markdown",
   "metadata": {},
   "source": [
    "# Wstęp do (głębokich) modeli generatywnych\n",
    "\n",
    "Modele generatywne to rodzaj nienadzorowanych algorytmów uczenia maszynowego, co oznacza, że dane nie mają (zazwyczaj) przypisanych etykiet. Na podstawie samych reprezentacji wejściowych będziemy uczyć się rozkładu prawdopodobieństwa danych, co umożliwi nam generowanie nowych przykładów, które są podobne do obserwowanych podczas treningu.\n",
    "\n",
    "Typowymi przykładami zastosowań modeli generatywnych jest tworzenie obrazów, generowanie tekstu lub projektowanie nowych molekuł. Kilka z najpopularniejszych modeli generatywnych opartych o sieci neuronowe jest przedstawionych poniżej.\n",
    "\n",
    "1. **Autoenkoder** - model ten składa się z dwóch elementów, enkodera i dekodera. Enkoder przyjmuje reprezentację wejściową danych i przekształca ją w mniej wymiarową reprezentację ukrytą (koduje jako wektor liczb). Dekoder przyjmuje zakodowany wektor i przekształca go z powrotem w obiekt podobny do wejściowego. Mamy więc model $x'=D(E(x))$, a celem optymalizacji będzie minimalizacja różnic między obiektem wejściowym i odtworzonym przez model: $\\mathcal{L}=\\|x-x' \\|_2$. Aby model był generatywny, dodaje się jeszcze dodatkowy warunek, aby przestrzeń ukryta (kodowane wektory) miały rozkład normalny, tj. $\\mathcal{L}=\\|x-x' \\|_2 + \\mathcal{L}_{normal}(E(x))$. Wtedy losując wektor $z\\sim \\mathcal{N}(0, 1)$ i przerzucając go przez dekoder $x'=D(z)$ otrzymamy nowo wygenerowany obiekt.\n",
    "![](https://upload.wikimedia.org/wikipedia/commons/4/4a/VAE_Basic.png)\n",
    "3. **Sieć rekurencyjna (modele autoregresyjne)** - rodzaj sieci, której wyjście jest użyte później ponownie jako wejście do sieci. Siecie rekurencyjne generują obiekty element po elemencie, np. tekst znak po znaku albo molekuły atom po atomie. Wygenerowane stany pośrednie są użyte jako wejście modelu i na tej podstawie zapada decyzja, jaki jest kolejny element do wygenerowania.\n",
    "![](https://upload.wikimedia.org/wikipedia/commons/5/5f/Gated_Recurrent_Unit.svg)"
   ]
  },
  {
   "cell_type": "markdown",
   "metadata": {},
   "source": [
    "# Jak modele generatywne używane są w projektowaniu leków\n",
    "\n",
    "Modele generatywne mają dwa główne zastosowania w projektowaniu leków. Możemy generować związki od zera i wtedy mówimy o **projektowaniu leków** *de novo*, albo możemy optymalizować istniejące molekuły, głównie na etapie optymalizacji struktury wiodącej (ang. **lead optimisation**), kiedy mamy już chemię wykazującą aktywność biologiczną, ale chcemy tę aktywność wzmocnić, lub poprawić inne własności związku (ADMET).\n",
    "\n",
    "Istnieją dwa podstawowe rodzaje generatorów w chemii: te oparte na reprezentacji **SMILES** i te oparte na **grafach molekularnych**. Możemy zatem generować ciąg symboli reprezentacji SMILES, ale pojawiają się podobne problemy jak z przewidywaniem na tej preprezentacji i nie zawsze otrzymujemy poprawne związki (SMILES ma określoną gramatykę). Bardziej naturalnym wydaje się generowanie grafów, ale i to podejście ma swoje problemy:\n",
    "\n",
    "1. Generowanie sekwencyjne po 1 atomie prowadzi do **niepoprawnych stanów przejściowych**. Na przykład generując pierścień, będziemy mieć wydłużający się łańcuch, który zamknie się w pierścień dopiero na samym końcu. Rozwiązaniem tutaj jest generowanie oparte o fragmenty uwzględniające całe pierścienie zamiast pojedynczych atomów.\n",
    "2. Grafy molekularne są **strukturami dyskretnymi**, tzn. atomy i połączenia są konkretnie określone, zero-jedynkowe. Nie możemy mieć częściowych wiązań ani mieszanych symboli jednego atomu. W związku z tym reprezentacja ciągła będąca zazwyczaj wyjściem z sieci neuronowej musi zostać zamieniona na reprezentację dyskretną, np. macierz sąsiedztwa musi być zaokrąglona do zer i jedynek, żeby przedstawiała poprawny związek. Przy takiej operacji tracimy różniczkowalność w sieci, gdybyśmy próbowali liczyć funkcję kosztu na wygenerowanym związku. Rozwiązaniem często jest tutaj Gumbel Softmax, który pozwala na różniczkowalne \"zaokrąglenia\", oraz uczenie ze wzmocnieniem, które nie wymaga różniczkowalności sieci (tam gradienty wyznacza się trochę inaczej, w oparciu o tzw. funkcję nagrody).\n",
    "\n",
    "Dodatkowym czynnikiem, który musimy wziąć pod uwagę w projektowaniu leków, jest optymalizacja własności molekuły. Oprócz generowania poprawnych związków chcemy, aby struktura była możliwa do zsyntetyzowania i aby miała wszystkie własności niezbędne do bycia lekiem. Dlatego właśnie w proces uczenia (albo generowania) włącza się dodatkowe ograniczenia na tworzone związki."
   ]
  },
  {
   "cell_type": "markdown",
   "metadata": {},
   "source": [
    "# Przykład modelu generatywnego na SMILES-ach - ReLeaSE\n",
    "\n",
    "Kod modelu możemy pobrać do folderu `labs` z repozytorium: https://github.com/isayev/ReLeaSE ([Paper](https://www.science.org/doi/epdf/10.1126/sciadv.aap7885))\n",
    "\n",
    "**TL;DR**\n",
    "\n",
    "W tej pracy implementowany jest generatory SMILES. Ponieważ SMILES mają określoną gramatykę i jest to gramatyka bezkontekstowa (powtórka z języków formalnych i automatów), to będzie istniał automat ze stosem, który gramatykę tę akceptuje. Stos jest niezbędny to pamiętania np. otwarcia nawiasu oznaczającego gałąź molekuły oraz otwarcia pierścienia oznaczanego liczbami. Poprzez dodanie stosu do zwykłej sieci rekurencyjnej (np. GRU) jesteśmy w stanie generować więcej poprawnych związków. Dodatkowo własności generowanych związków mogą być optymalizowane przez włączenie do treningu modelu predykcyjnego, który był trenowany do przewidywania danej własności. Model ten użyty jest do policzenia nagrody modelu, gdy wygenerowany zostanie już pełny SMILES. Parametry są poprawiane metodą uczenia ze wzmocnieniem, a konkretnie algorytmem REINFORCE."
   ]
  },
  {
   "cell_type": "code",
   "execution_count": 25,
   "metadata": {},
   "outputs": [],
   "source": [
    "sys.path.append('../ReLeaSE/release')"
   ]
  },
  {
   "cell_type": "code",
   "execution_count": null,
   "metadata": {},
   "outputs": [],
   "source": [
    "from stackRNN import StackAugmentedRNN\n",
    "from data import GeneratorData\n",
    "\n",
    "use_cuda = False"
   ]
  },
  {
   "cell_type": "code",
   "execution_count": 75,
   "metadata": {},
   "outputs": [],
   "source": [
    "hidden_size = 50\n",
    "stack_width = 50\n",
    "stack_depth = 10\n",
    "lr = 0.001\n",
    "optimizer_instance = torch.optim.Adadelta\n",
    "layer_type = 'GRU'\n",
    "\n",
    "gen_data_path = '../ReLeaSE/data/logP_labels.csv'\n",
    "gen_data = GeneratorData(training_data_path=gen_data_path, delimiter=',',\n",
    "                         cols_to_read=[1], keep_header=False)\n",
    "\n",
    "my_generator = StackAugmentedRNN(input_size=gen_data.n_characters,\n",
    "                                 hidden_size=hidden_size,\n",
    "                                 output_size=gen_data.n_characters,\n",
    "                                 layer_type=layer_type,\n",
    "                                 n_layers=1, is_bidirectional=True,\n",
    "                                 has_stack=True,\n",
    "                                 stack_width=stack_width,\n",
    "                                 stack_depth=stack_depth,\n",
    "                                 use_cuda=use_cuda,\n",
    "                                 optimizer_instance=optimizer_instance,\n",
    "                                 lr=lr)\n",
    "if use_cuda:\n",
    "    my_generator = my_generator.cuda()\n",
    "\n",
    "losses = my_generator.fit(gen_data, 1000)\n",
    "\n",
    "my_generator.evaluate(gen_data)"
   ]
  },
  {
   "cell_type": "code",
   "execution_count": 82,
   "metadata": {},
   "outputs": [],
   "source": [
    "gen_data_path = '../ReLeaSE/data/chembl_22_clean_1576904_sorted_std_final.smi'\n",
    "tokens = ['<', '>', '#', '%', ')', '(', '+', '-', '/', '.', '1', '0', '3', '2', '5', '4', '7',\n",
    "          '6', '9', '8', '=', 'A', '@', 'C', 'B', 'F', 'I', 'H', 'O', 'N', 'P', 'S', '[', ']',\n",
    "          '\\\\', 'c', 'e', 'i', 'l', 'o', 'n', 'p', 's', 'r', '\\n']\n",
    "gen_data = GeneratorData(training_data_path=gen_data_path, delimiter='\\t', \n",
    "                         cols_to_read=[0], keep_header=True, tokens=tokens)\n",
    "\n",
    "model = StackAugmentedRNN(input_size=gen_data.n_characters, \n",
    "                                     hidden_size=1500,\n",
    "                                     output_size=gen_data.n_characters, \n",
    "                                     layer_type='GRU',\n",
    "                                     n_layers=1, is_bidirectional=False, has_stack=True,\n",
    "                                     stack_width=1500, stack_depth=10, \n",
    "                                     use_cuda=use_cuda)\n",
    "\n",
    "model.load_model('../ReLeaSE/checkpoints/generator/checkpoint_biggest_rnn')"
   ]
  },
  {
   "cell_type": "code",
   "execution_count": 88,
   "metadata": {},
   "outputs": [
    {
     "name": "stdout",
     "output_type": "stream",
     "text": [
      "Random Smile:  Cc1ccc(cc1)N1C(=O)N(Cc2ccccc2)C(=O)c2cc(ccc12)-c1ccccc1\n"
     ]
    },
    {
     "data": {
      "image/png": "[encoded data removed]",
      "text/plain": [
       "<rdkit.Chem.rdchem.Mol at 0x1fffb20c4e0>"
      ]
     },
     "metadata": {},
     "output_type": "display_data"
    }
   ],
   "source": [
    "smiles = model.evaluate(gen_data)[1:-1]\n",
    "\n",
    "print('Random Smile: ', smiles)\n",
    "mol = Chem.MolFromSmiles(smiles)\n",
    "if mol:\n",
    "    display(mol)\n",
    "else:\n",
    "    print('Invalid SMILES!')"
   ]
  },
  {
   "cell_type": "markdown",
   "metadata": {},
   "source": [
    "# Przykład grafowego modelu generatywnego - JT-VAE\n",
    "\n",
    "Kod modelu możemy pobrać do folderu `labs` z repozytorium: https://github.com/Bibyutatsu/FastJTNNpy3 ([Paper](https://arxiv.org/pdf/1802.04364.pdf))\n",
    "\n",
    "**TL;DR**\n",
    "\n",
    "JT-VAE jest modelem typu autoenkoder pracującym na grafach molekularnych. Żeby ułatwić generowanie związków, wzory strukturalne zamieniane są na tzw. junction trees, w których pierścienie zamieniane są na pojedyncze wierzchołki. W ten sposób otrzymujemy strukturę drzewa zamiast grafu, z którego później możemy odkodować pełen związek. Enkoder grafowy jest siecią grafową (MPNN), natomiast enkoder drzewowy jest podobną siecią, ale tym razem możemy przekazywać wiadomości tylko od korzenia do liści. Dekoder drzewowy jest siecią rekurencyjną (GRU), która buduje drzewo w kolejności DFS. Dekoder grafowy służy wyłącznie do odpowiedniego łączenia atomów po zdekodowaniu wierzchołków drzewa - zdekodowane pierścienie mają wiele możliwych miejsc podpięcia. Do optymalizacji własności chemicznych wykorzystuje się przeszukiwanie Bayesowskie w zakodowanej przestrzeni ukrytej autoenkodera."
   ]
  },
  {
   "cell_type": "code",
   "execution_count": 2,
   "metadata": {},
   "outputs": [],
   "source": [
    "sys.path.append('../FastJTNNpy3')"
   ]
  },
  {
   "cell_type": "code",
   "execution_count": 3,
   "metadata": {},
   "outputs": [
    {
     "name": "stderr",
     "output_type": "stream",
     "text": [
      "C:\\Users\\tomas\\miniconda3\\envs\\mldd\\lib\\site-packages\\torch\\nn\\_reduction.py:42: UserWarning: size_average and reduce args will be deprecated, please use reduction='sum' instead.\n",
      "  warnings.warn(warning.format(ret))\n"
     ]
    }
   ],
   "source": [
    "from fast_molvae.sample import load_model\n",
    "from rdkit import Chem\n",
    "import torch\n",
    "\n",
    "\n",
    "model = load_model('../FastJTNNpy3/data/vocab.txt', '../FastJTNNpy3/fast_molvae/vae_model/model.epoch-19')"
   ]
  },
  {
   "cell_type": "code",
   "execution_count": 14,
   "metadata": {},
   "outputs": [
    {
     "name": "stdout",
     "output_type": "stream",
     "text": [
      "Random Smile:  Cc1conc1NC(=O)c1cccc2c1OCCO2\n"
     ]
    },
    {
     "data": {
      "image/png": "[encoded data removed]",
      "text/plain": [
       "<rdkit.Chem.rdchem.Mol at 0x1fff77943f0>"
      ]
     },
     "execution_count": 14,
     "metadata": {},
     "output_type": "execute_result"
    }
   ],
   "source": [
    "z = torch.randn(1, 56//2)\n",
    "smiles = model.decode(z, z, False)\n",
    "print('Random Smile: ', smiles)\n",
    "Chem.MolFromSmiles(smiles)"
   ]
  }
 ],
 "metadata": {
  "kernelspec": {
   "display_name": "Python 3",
   "language": "python",
   "name": "python3"
  },
  "language_info": {
   "codemirror_mode": {
    "name": "ipython",
    "version": 3
   },
   "file_extension": ".py",
   "mimetype": "text/x-python",
   "name": "python",
   "nbconvert_exporter": "python",
   "pygments_lexer": "ipython3",
   "version": "3.8.5"
  }
 },
 "nbformat": 4,
 "nbformat_minor": 4
}
